{
 "cells": [
  {
   "cell_type": "markdown",
   "metadata": {},
   "source": [
    "#### Crear una ventana:"
   ]
  },
  {
   "cell_type": "code",
   "execution_count": 3,
   "metadata": {},
   "outputs": [
    {
     "data": {
      "text/plain": [
       "''"
      ]
     },
     "execution_count": 3,
     "metadata": {},
     "output_type": "execute_result"
    }
   ],
   "source": [
    "import tkinter as tk\n",
    "\n",
    "root = tk.Tk()  # Crea una ventana principal\n",
    "root.title(\"Mi Ventana Tkinter\")  # Establece el título de la ventana\n"
   ]
  },
  {
   "cell_type": "markdown",
   "metadata": {},
   "source": [
    "#### Tamaño de la ventana:"
   ]
  },
  {
   "cell_type": "code",
   "execution_count": 6,
   "metadata": {},
   "outputs": [
    {
     "data": {
      "text/plain": [
       "''"
      ]
     },
     "execution_count": 6,
     "metadata": {},
     "output_type": "execute_result"
    }
   ],
   "source": [
    "root.geometry(\"800x600\")"
   ]
  },
  {
   "cell_type": "markdown",
   "metadata": {},
   "source": [
    "#### Mantener tamaño especifico"
   ]
  },
  {
   "cell_type": "code",
   "execution_count": null,
   "metadata": {},
   "outputs": [],
   "source": [
    "root.resizable(0,0)"
   ]
  },
  {
   "cell_type": "markdown",
   "metadata": {},
   "source": [
    "#### Icono de la ventana:"
   ]
  },
  {
   "cell_type": "code",
   "execution_count": null,
   "metadata": {},
   "outputs": [],
   "source": [
    "root.iconbitmap('icono.ico')"
   ]
  },
  {
   "cell_type": "markdown",
   "metadata": {},
   "source": [
    "#### Establecer una imagen de fondo / color:"
   ]
  },
  {
   "cell_type": "code",
   "execution_count": null,
   "metadata": {},
   "outputs": [],
   "source": [
    "bg_image = tk.PhotoImage(file=\"fondo.png\")\n",
    "background_label = tk.Label(root, image=bg_image)\n",
    "background_label.place(relwidth=1, relheight=1)"
   ]
  },
  {
   "cell_type": "code",
   "execution_count": null,
   "metadata": {},
   "outputs": [],
   "source": [
    "root.configure(bg=\"blue\")"
   ]
  },
  {
   "cell_type": "markdown",
   "metadata": {},
   "source": [
    "#### Título de la ventana:"
   ]
  },
  {
   "cell_type": "code",
   "execution_count": null,
   "metadata": {},
   "outputs": [],
   "source": [
    "root.title(\"Nuevo Título\")"
   ]
  },
  {
   "cell_type": "markdown",
   "metadata": {},
   "source": [
    "#### Máximo y mínimo tamaño de la ventana:"
   ]
  },
  {
   "cell_type": "code",
   "execution_count": null,
   "metadata": {},
   "outputs": [],
   "source": [
    "root.minsize(400, 300)  # Tamaño mínimo\n",
    "root.maxsize(1200, 900)  # Tamaño máximo"
   ]
  },
  {
   "cell_type": "markdown",
   "metadata": {},
   "source": [
    "#### Personalizar la apariencia:"
   ]
  },
  {
   "cell_type": "markdown",
   "metadata": {},
   "source": [
    "\n",
    "En Tkinter, los temas de apariencia son parte del módulo ttk (Tile Theming). A continuación, se muestran algunos de los temas de apariencia disponibles en Tkinter:\n",
    "\n",
    "1. **'winnative':** Este es el tema predeterminado en plataformas Windows.\n",
    "\n",
    "2. **'clam':** Un tema simple y limpio que se asemeja a la apariencia predeterminada de otros sistemas operativos.\n",
    "\n",
    "3. **'alt':** Un tema alternativo que puede tener una apariencia diferente en función del sistema operativo.\n",
    "\n",
    "4. **'classic':** Un tema que imita la apariencia de las versiones anteriores de Tkinter.\n",
    "\n",
    "5. **'default':** El tema predeterminado que Tkinter utiliza si no se especifica ningún otro tema.\n",
    "\n",
    "Puedes aplicar estos temas a tus widgets de Tkinter utilizando el método **ttk.Style().theme_use(nombre_del_tema).**"
   ]
  },
  {
   "cell_type": "code",
   "execution_count": null,
   "metadata": {},
   "outputs": [],
   "source": [
    "from tkinter import ttk\n",
    "\n",
    "style = ttk.Style()\n",
    "style.theme_use(\"clam\")  # Puedes elegir otros temas como \"default\", \"vista\", etc.\n"
   ]
  },
  {
   "cell_type": "markdown",
   "metadata": {},
   "source": [
    "#### Mostrar la ventana:"
   ]
  },
  {
   "cell_type": "markdown",
   "metadata": {},
   "source": [
    "root.mainloop()"
   ]
  }
 ],
 "metadata": {
  "kernelspec": {
   "display_name": "Python 3",
   "language": "python",
   "name": "python3"
  },
  "language_info": {
   "codemirror_mode": {
    "name": "ipython",
    "version": 3
   },
   "file_extension": ".py",
   "mimetype": "text/x-python",
   "name": "python",
   "nbconvert_exporter": "python",
   "pygments_lexer": "ipython3",
   "version": "3.11.2"
  }
 },
 "nbformat": 4,
 "nbformat_minor": 2
}
