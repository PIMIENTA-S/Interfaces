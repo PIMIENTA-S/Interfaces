{
 "cells": [
  {
   "cell_type": "markdown",
   "metadata": {},
   "source": [
    "## **Frame:**\n",
    "\n",
    "- **Descripción:** Un Frame es un contenedor que se utiliza para organizar y agrupar otros widgets. Puedes pensar en él como un marco o panel que puede contener otros elementos de la interfaz de usuario.\n",
    "  \n",
    "- Uso típico: Se utiliza para organizar y agrupar widgets relacionados, como botones, etiquetas u otros elementos, dentro de una ventana.\n",
    "  \n",
    "- Ejemplo:"
   ]
  },
  {
   "cell_type": "code",
   "execution_count": null,
   "metadata": {},
   "outputs": [],
   "source": [
    "import tkinter as tk\n",
    "\n",
    "root = tk.Tk()\n",
    "\n",
    "frame = tk.Frame(root)\n",
    "frame.pack()"
   ]
  },
  {
   "cell_type": "markdown",
   "metadata": {},
   "source": [
    "## **Label**:\n",
    "\n",
    "- **Descripción**: Un Label es un widget que se utiliza para mostrar texto o imágenes estáticas en una ventana. Puede mostrar información, etiquetas o mensajes en la interfaz de usuario.\n",
    "\n",
    "- Uso típico: Se utiliza para mostrar etiquetas, títulos, descripciones u otra información estática en la GUI.\n",
    "\n",
    "- Ejemplo:"
   ]
  },
  {
   "cell_type": "code",
   "execution_count": null,
   "metadata": {},
   "outputs": [],
   "source": [
    "label = tk.Label(root, text=\"Etiqueta de ejemplo\")\n",
    "label.pack()"
   ]
  },
  {
   "cell_type": "markdown",
   "metadata": {},
   "source": [
    "## **Button**:\n",
    "\n",
    "- **Descripción**: Un Button es un widget que representa un botón interactivo en la interfaz de usuario. Los botones se utilizan para realizar acciones cuando el usuario hace clic en ellos.\n",
    "\n",
    "- Uso típico: Se utiliza para crear botones que realizan acciones cuando se presionan, como enviar formularios o activar funciones.\n",
    "\n",
    "- Ejemplo:"
   ]
  },
  {
   "cell_type": "code",
   "execution_count": null,
   "metadata": {},
   "outputs": [],
   "source": [
    "button = tk.Button(root, text=\"Hacer clic\", command=accion)\n",
    "button.pack()\n"
   ]
  },
  {
   "cell_type": "markdown",
   "metadata": {},
   "source": [
    "## **Entry:**\n",
    "\n",
    "- **Descripción:** Un Entry es un widget que permite al usuario introducir texto o datos de una sola línea. Se utiliza para recibir entrada de texto del usuario.\n",
    "\n",
    "- Uso típico: Se utiliza en formularios o cuadros de búsqueda donde el usuario debe ingresar texto.\n",
    "\n",
    "- Ejemplo:"
   ]
  },
  {
   "cell_type": "code",
   "execution_count": null,
   "metadata": {},
   "outputs": [],
   "source": [
    "entry = tk.Entry(root)\n",
    "entry.pack()\n"
   ]
  },
  {
   "cell_type": "markdown",
   "metadata": {},
   "source": [
    "## **Text:**\n",
    "\n",
    "- **Descripción:** Un Text es un widget que permite al usuario introducir texto o datos en varias líneas. Puede utilizarse para crear áreas de texto editables.\n",
    "\n",
    "- Uso típico: Se utiliza para crear áreas de texto donde los usuarios pueden escribir párrafos o notas más largas.\n",
    "\n",
    "- Ejemplo:"
   ]
  },
  {
   "cell_type": "code",
   "execution_count": null,
   "metadata": {},
   "outputs": [],
   "source": [
    "text = tk.Text(root)\n",
    "text.pack()\n"
   ]
  },
  {
   "cell_type": "markdown",
   "metadata": {},
   "source": [
    "## **Checkbutton:**\n",
    "\n",
    "- **Descripción**: Un Checkbutton es un widget que permite al usuario seleccionar una opción o activar/desactivar una característica marcando una casilla de verificación.\n",
    "\n",
    "- Uso típico: Se utiliza para permitir al usuario realizar selecciones binarias o marcar opciones.\n",
    "\n",
    "- Ejemplo:"
   ]
  },
  {
   "cell_type": "code",
   "execution_count": null,
   "metadata": {},
   "outputs": [],
   "source": [
    "check_button = tk.Checkbutton(root, text=\"Habilitar opción\")\n",
    "check_button.pack()\n"
   ]
  },
  {
   "cell_type": "markdown",
   "metadata": {},
   "source": [
    "## **Radiobutton:**\n",
    "\n",
    "- **Descripción**: Un Radiobutton es un widget que permite al usuario seleccionar una opción de entre varias opciones mutuamente excluyentes.\n",
    "\n",
    "- Uso típico: Se utiliza para presentar opciones en las que el usuario debe elegir una sola de entre varias.\n",
    "\n",
    "- Ejemplo:"
   ]
  },
  {
   "cell_type": "code",
   "execution_count": null,
   "metadata": {},
   "outputs": [],
   "source": [
    "radio_var = tk.StringVar()\n",
    "radio_button1 = tk.Radiobutton(root, text=\"Opción 1\", variable=radio_var, value=\"opcion1\")\n",
    "radio_button2 = tk.Radiobutton(root, text=\"Opción 2\", variable=radio_var, value=\"opcion2\")\n",
    "radio_button1.pack()\n",
    "radio_button2.pack()\n"
   ]
  }
 ],
 "metadata": {
  "language_info": {
   "name": "python"
  }
 },
 "nbformat": 4,
 "nbformat_minor": 2
}
