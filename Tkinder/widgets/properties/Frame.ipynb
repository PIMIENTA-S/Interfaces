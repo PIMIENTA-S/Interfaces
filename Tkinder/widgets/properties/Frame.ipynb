{
 "cells": [
  {
   "cell_type": "markdown",
   "metadata": {},
   "source": [
    "## **Creación de un Frame:**\n",
    "\n",
    "- Para crear un widget Frame, puedes usar la siguiente sintaxis:"
   ]
  },
  {
   "cell_type": "code",
   "execution_count": null,
   "metadata": {},
   "outputs": [],
   "source": [
    "import tkinter as tk\n",
    "\n",
    "root = tk.Tk()"
   ]
  },
  {
   "cell_type": "code",
   "execution_count": null,
   "metadata": {},
   "outputs": [],
   "source": [
    "frame = tk.Frame(root, options)\n"
   ]
  },
  {
   "cell_type": "markdown",
   "metadata": {},
   "source": [
    "## **Organización de widgets en un Frame:**\n",
    "\n",
    "- Puedes colocar otros widgets, como botones, etiquetas, cuadros de entrada, etc., dentro de un Frame. Esto te permite organizar y agrupar elementos relacionados en tu interfaz de usuario.\n",
    "\n",
    "- Ejemplo:"
   ]
  },
  {
   "cell_type": "code",
   "execution_count": null,
   "metadata": {},
   "outputs": [],
   "source": [
    "frame = tk.Frame(root)\n",
    "label = tk.Label(frame, text=\"Este es un marco\")\n",
    "button = tk.Button(frame, text=\"Botón en el marco\")\n",
    "label.pack()\n",
    "button.pack()\n"
   ]
  },
  {
   "cell_type": "markdown",
   "metadata": {},
   "source": [
    "## **Establecimiento de un borde o borde del Frame:**\n",
    "\n",
    "- Puedes establecer un borde alrededor del Frame utilizando el parámetro relief. Los valores comunes incluyen \"flat\", \"sunken\", \"raised\", \"ridge\" y \"groove\". También puedes especificar el grosor del borde con el parámetro borderwidth.\n",
    "\n",
    "- Ejemplo:"
   ]
  },
  {
   "cell_type": "code",
   "execution_count": null,
   "metadata": {},
   "outputs": [],
   "source": [
    "frame = tk.Frame(root, relief=\"ridge\", borderwidth=3)\n"
   ]
  },
  {
   "cell_type": "markdown",
   "metadata": {},
   "source": [
    "## **Etiquetas o títulos para el Frame:**\n",
    "\n",
    "- Puedes agregar una etiqueta o título al Frame utilizando un widget Label u otro widget de tu elección. Esto puede ayudar a identificar el propósito del marco en la interfaz de usuario.\n",
    "\n",
    "- Ejemplo:"
   ]
  },
  {
   "cell_type": "code",
   "execution_count": null,
   "metadata": {},
   "outputs": [],
   "source": [
    "frame = tk.Frame(root)\n",
    "title_label = tk.Label(frame, text=\"Configuración del usuario\")\n",
    "title_label.pack()\n"
   ]
  },
  {
   "cell_type": "markdown",
   "metadata": {},
   "source": [
    "## **Ocultar o mostrar un Frame:**\n",
    "\n",
    "- Puedes ocultar o mostrar un Frame en función de las necesidades de tu aplicación utilizando el método pack_forget() o pack().\n",
    "\n",
    "- Ejemplo para ocultar un Frame:"
   ]
  },
  {
   "cell_type": "code",
   "execution_count": null,
   "metadata": {},
   "outputs": [],
   "source": [
    "frame.pack_forget()\n"
   ]
  },
  {
   "cell_type": "markdown",
   "metadata": {},
   "source": [
    "## **Eventos y métodos del Frame:**\n",
    "\n",
    "- Puedes vincular eventos a un Frame para responder a acciones específicas, como hacer clic o enfocar/desenfocar el marco. Además, los métodos como config() se pueden utilizar para modificar propiedades del Frame en tiempo de ejecución.\n",
    "\n",
    "- Ejemplo de vinculación de eventos:"
   ]
  },
  {
   "cell_type": "code",
   "execution_count": null,
   "metadata": {},
   "outputs": [],
   "source": [
    "def on_frame_click(event):\n",
    "    print(\"El marco fue clicado\")\n",
    "\n",
    "frame.bind(\"<Button-1>\", on_frame_click)\n"
   ]
  }
 ],
 "metadata": {
  "language_info": {
   "name": "python"
  }
 },
 "nbformat": 4,
 "nbformat_minor": 2
}
