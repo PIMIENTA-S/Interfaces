{
 "cells": [
  {
   "cell_type": "code",
   "execution_count": 27,
   "metadata": {},
   "outputs": [
    {
     "name": "stdout",
     "output_type": "stream",
     "text": [
      "[2, 3, 5, 7, 11, 13, 17, 19, 23, 29, 31, 37, 41, 43, 47, 53, 59, 61, 67, 71, 73, 79, 83, 89, 97]\n"
     ]
    }
   ],
   "source": [
    "def primo(numero):\n",
    "    if (numero <= 1):\n",
    "        return False\n",
    "    if (numero <= 3):\n",
    "        return True\n",
    "    if (numero % 2 == 0) or (numero % 3 == 0):\n",
    "        return False\n",
    "    i = 5\n",
    "    while i * i <= numero:\n",
    "        if (numero % i == 0) or (numero % (i + 2) == 0):\n",
    "            return False\n",
    "        i += 6\n",
    "    return True\n",
    "\n",
    "\n",
    "def totalprimos(n): return list(filter(primo, range(2, n + 1)))\n",
    "\n",
    "print(totalprimos(100))"
   ]
  },
  {
   "cell_type": "code",
   "execution_count": 28,
   "metadata": {},
   "outputs": [
    {
     "name": "stdout",
     "output_type": "stream",
     "text": [
      "[2, 3, 5, 7, 11, 13, 17, 19, 23, 29, 31, 37, 41, 43, 47, 53, 59, 61, 67, 71, 73, 79, 83, 89, 97]\n"
     ]
    }
   ],
   "source": [
    "def primosYield(numero):\n",
    "    for k in range(numero + 1):\n",
    "        if primo(k) and (k != 1):\n",
    "            yield k\n",
    "\n",
    "print(list(primosYield(100)))"
   ]
  },
  {
   "cell_type": "code",
   "execution_count": 29,
   "metadata": {},
   "outputs": [
    {
     "name": "stdout",
     "output_type": "stream",
     "text": [
      "54877108839480000051413673948383714443800519309123592724494953427039811201064341234954387521525390615504949092187441218246679104731442473022013980160407007017175697317900483275246652938800\n"
     ]
    }
   ],
   "source": [
    "\n",
    "def fibonacci(numeroIngresado):\n",
    "    if (numeroIngresado <= 0):\n",
    "        return 0\n",
    "    elif (numeroIngresado == 1):\n",
    "        return 1\n",
    "    else:\n",
    "        a = 0\n",
    "        b = 1\n",
    "        for _ in range(2, numeroIngresado + 1):\n",
    "            flag = a \n",
    "            a = b\n",
    "            b = flag + b \n",
    "        return b\n",
    "\n",
    "print(fibonacci(900))\n"
   ]
  },
  {
   "cell_type": "code",
   "execution_count": 30,
   "metadata": {},
   "outputs": [
    {
     "name": "stdout",
     "output_type": "stream",
     "text": [
      "54877108839480000051413673948383714443800519309123592724494953427039811201064341234954387521525390615504949092187441218246679104731442473022013980160407007017175697317900483275246652938800\n"
     ]
    }
   ],
   "source": [
    "\n",
    "def fibonacciRecursivo(numeroUsuario, a=0, b=1):\n",
    "    if (numeroUsuario == 0):\n",
    "        return a\n",
    "    else:\n",
    "        return fibonacciRecursivo(numeroUsuario - 1, b, a + b)\n",
    "\n",
    "print(fibonacciRecursivo(900))"
   ]
  }
 ],
 "metadata": {
  "kernelspec": {
   "display_name": "Python 3",
   "language": "python",
   "name": "python3"
  },
  "language_info": {
   "codemirror_mode": {
    "name": "ipython",
    "version": 3
   },
   "file_extension": ".py",
   "mimetype": "text/x-python",
   "name": "python",
   "nbconvert_exporter": "python",
   "pygments_lexer": "ipython3",
   "version": "3.11.2"
  }
 },
 "nbformat": 4,
 "nbformat_minor": 2
}
