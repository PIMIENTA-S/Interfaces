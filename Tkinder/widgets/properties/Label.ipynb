{
 "cells": [
  {
   "cell_type": "markdown",
   "metadata": {},
   "source": [
    "## **Creación de un Label:**\n",
    "\n",
    "- Para crear un widget Label, puedes utilizar la siguiente sintaxis:"
   ]
  },
  {
   "cell_type": "code",
   "execution_count": null,
   "metadata": {},
   "outputs": [],
   "source": [
    "import tkinter as tk\n",
    "\n",
    "root = tk.Tk()"
   ]
  },
  {
   "cell_type": "code",
   "execution_count": null,
   "metadata": {},
   "outputs": [],
   "source": [
    "label = tk.Label(root, options)\n"
   ]
  },
  {
   "cell_type": "markdown",
   "metadata": {},
   "source": [
    "## **Texto del Label:**\n",
    "\n",
    "- Puedes especificar el texto que se mostrará en el Label utilizando el parámetro text.\n",
    "\n",
    "- Ejemplo:"
   ]
  },
  {
   "cell_type": "code",
   "execution_count": null,
   "metadata": {},
   "outputs": [],
   "source": [
    "label = tk.Label(root, text=\"Este es un Label\")\n"
   ]
  },
  {
   "cell_type": "markdown",
   "metadata": {},
   "source": [
    "## **Cambio de la fuente y el tamaño de texto:**\n",
    "\n",
    "- Puedes cambiar la fuente y el tamaño del texto en un Label utilizando el parámetro font.\n",
    "\n",
    "- Ejemplo:"
   ]
  },
  {
   "cell_type": "code",
   "execution_count": null,
   "metadata": {},
   "outputs": [],
   "source": [
    "label = tk.Label(root, text=\"Texto con fuente personalizada\",\n",
    "                  font=(\"Helvetica\", 16))\n"
   ]
  },
  {
   "cell_type": "markdown",
   "metadata": {},
   "source": [
    "## **Alineación de texto:**\n",
    "\n",
    "- Puedes alinear el texto dentro del Label utilizando el parámetro justify, que acepta los valores \"left\", \"center\", o \"right\".\n",
    "\n",
    "- Ejemplo:"
   ]
  },
  {
   "cell_type": "code",
   "execution_count": null,
   "metadata": {},
   "outputs": [],
   "source": [
    "label = tk.Label(root, text=\"Texto centrado\", justify=\"center\")\n"
   ]
  },
  {
   "cell_type": "markdown",
   "metadata": {},
   "source": [
    "## **Imagen en lugar de texto:**\n",
    "\n",
    "- En lugar de texto, puedes mostrar una imagen en un Label utilizando el parámetro image.\n",
    "\n",
    "- Ejemplo:"
   ]
  },
  {
   "cell_type": "code",
   "execution_count": null,
   "metadata": {},
   "outputs": [],
   "source": [
    "photo = tk.PhotoImage(file=\"imagen.gif\")\n",
    "label = tk.Label(root, image=photo)\n"
   ]
  },
  {
   "cell_type": "markdown",
   "metadata": {},
   "source": [
    "## **Colores y fondos:**\n",
    "\n",
    "- Puedes cambiar el color del texto y el color de fondo de un Label utilizando los parámetros foreground (color del texto) y background (color de fondo).\n",
    "\n",
    "- Ejemplo:"
   ]
  },
  {
   "cell_type": "code",
   "execution_count": null,
   "metadata": {},
   "outputs": [],
   "source": [
    "label = tk.Label(root, text=\"Texto en rojo\", \n",
    "                foreground=\"red\", background=\"lightgray\")\n"
   ]
  },
  {
   "cell_type": "markdown",
   "metadata": {},
   "source": [
    "## **Eventos y métodos del Label:**\n",
    "\n",
    "- Puedes vincular eventos a un Label para responder a acciones específicas, como hacer clic. También puedes utilizar métodos como config() para modificar propiedades del Label en tiempo de ejecución.\n",
    "\n",
    "- Ejemplo de vinculación de eventos:"
   ]
  },
  {
   "cell_type": "code",
   "execution_count": null,
   "metadata": {},
   "outputs": [],
   "source": [
    "def on_label_click(event):\n",
    "    print(\"El Label fue clicado\")\n",
    "\n",
    "label.bind(\"<Button-1>\", on_label_click)\n"
   ]
  },
  {
   "cell_type": "markdown",
   "metadata": {},
   "source": [
    "## **Etiquetas de múltiples líneas:**\n",
    "\n",
    "- Para mostrar texto en múltiples líneas dentro de un Label, puedes utilizar el carácter de nueva línea (\\n) en el texto.\n",
    "\n",
    "- Ejemplo"
   ]
  },
  {
   "cell_type": "code",
   "execution_count": null,
   "metadata": {},
   "outputs": [],
   "source": [
    "label = tk.Label(root, text=\"Línea 1\\nLínea 2\")\n"
   ]
  }
 ],
 "metadata": {
  "language_info": {
   "name": "python"
  }
 },
 "nbformat": 4,
 "nbformat_minor": 2
}
