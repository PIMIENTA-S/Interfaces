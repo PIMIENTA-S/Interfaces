{
 "cells": [
  {
   "cell_type": "markdown",
   "metadata": {},
   "source": [
    "## **Creación de un Button:**\n",
    "\n",
    "- Para crear un widget Button, puedes utilizar la siguiente sintaxis:"
   ]
  },
  {
   "cell_type": "code",
   "execution_count": null,
   "metadata": {},
   "outputs": [],
   "source": [
    "import tkinter as tk\n",
    "\n",
    "root = tk.Tk()"
   ]
  },
  {
   "cell_type": "code",
   "execution_count": null,
   "metadata": {},
   "outputs": [],
   "source": [
    "button = tk.Button(root, options)\n"
   ]
  },
  {
   "cell_type": "markdown",
   "metadata": {},
   "source": [
    "## **Texto del Button:**\n",
    "\n",
    "- Puedes especificar el texto que se mostrará en el Button utilizando el parámetro text.\n",
    "\n",
    "- Ejemplo:"
   ]
  },
  {
   "cell_type": "code",
   "execution_count": null,
   "metadata": {},
   "outputs": [],
   "source": [
    "button = tk.Button(root, text=\"Hacer clic\")\n"
   ]
  },
  {
   "cell_type": "markdown",
   "metadata": {},
   "source": [
    "## **Función de acción del Button:**\n",
    "\n",
    "- Puedes especificar una función que se ejecutará cuando el Button se presione utilizando el parámetro command.\n",
    "\n",
    "- Ejemplo:"
   ]
  },
  {
   "cell_type": "code",
   "execution_count": null,
   "metadata": {},
   "outputs": [],
   "source": [
    "def accion():\n",
    "    print(\"El botón fue presionado\")\n",
    "\n",
    "button = tk.Button(root, text=\"Hacer clic\", command=accion)\n"
   ]
  },
  {
   "cell_type": "markdown",
   "metadata": {},
   "source": [
    "## **magen en lugar de texto:**\n",
    "\n",
    "- En lugar de texto, puedes mostrar una imagen en un Button utilizando el parámetro image. También puedes utilizar el parámetro compound para combinar texto e imagen.\n",
    "\n",
    "- Ejemplo:"
   ]
  },
  {
   "cell_type": "code",
   "execution_count": null,
   "metadata": {},
   "outputs": [],
   "source": [
    "photo = tk.PhotoImage(file=\"imagen.gif\")\n",
    "button = tk.Button(root, image=photo, text=\"Imagen\", compound=\"left\")\n"
   ]
  },
  {
   "cell_type": "markdown",
   "metadata": {},
   "source": [
    "## **Desactivar o habilitar el Button:**\n",
    "\n",
    "- Puedes desactivar un Button para que no sea interactivo temporalmente utilizando el método config(state=\"disabled\"). Para habilitarlo nuevamente, utiliza config(state=\"normal\").\n",
    "\n",
    "- Ejemplo:"
   ]
  },
  {
   "cell_type": "code",
   "execution_count": null,
   "metadata": {},
   "outputs": [],
   "source": [
    "button.config(state=\"disabled\")  # Desactivar el Button\n",
    "button.config(state=\"normal\")    # Habilitar el Button\n"
   ]
  },
  {
   "cell_type": "markdown",
   "metadata": {},
   "source": [
    "## **Cambiar el color del texto y el fondo del Button:**\n",
    "\n",
    "- Puedes cambiar el color del texto y el color de fondo del Button utilizando los parámetros fg (color del texto) y bg (color de fondo).\n",
    "\n",
    "- Ejemplo:"
   ]
  },
  {
   "cell_type": "code",
   "execution_count": null,
   "metadata": {},
   "outputs": [],
   "source": [
    "button = tk.Button(root, text=\"Botón personalizado\", fg=\"white\", bg=\"blue\")\n"
   ]
  },
  {
   "cell_type": "markdown",
   "metadata": {},
   "source": [
    "## **Eventos y métodos del Button:**\n",
    "\n",
    "- Puedes vincular eventos a un Button para responder a acciones específicas, como hacer clic o enfocar. Además, los métodos como config() se pueden utilizar para modificar propiedades del Button en tiempo de ejecución.\n",
    "\n",
    "- Ejemplo de vinculación de eventos:"
   ]
  },
  {
   "cell_type": "code",
   "execution_count": null,
   "metadata": {},
   "outputs": [],
   "source": [
    "def on_button_click():\n",
    "    print(\"El botón fue clicado\")\n",
    "\n",
    "button.bind(\"<Button-1>\", on_button_click)\n"
   ]
  }
 ],
 "metadata": {
  "language_info": {
   "name": "python"
  }
 },
 "nbformat": 4,
 "nbformat_minor": 2
}
