{
 "cells": [
  {
   "cell_type": "markdown",
   "metadata": {},
   "source": [
    "## **pack:**\n",
    "\n",
    "- **Descripción:** El método pack organiza los widgets en bloques, uno debajo del otro (vertical) o uno al lado del otro (horizontal) en función de la dirección especificada (por defecto, es vertical).\n",
    "\n",
    "- Uso típico: Se utiliza cuando deseas organizar widgets en una sola dirección, como una lista vertical u horizontal de elementos.\n",
    "\n",
    "- Ejemplo:"
   ]
  },
  {
   "cell_type": "code",
   "execution_count": null,
   "metadata": {},
   "outputs": [],
   "source": [
    "import tkinter as tk\n",
    "\n",
    "root = tk.Tk()"
   ]
  },
  {
   "cell_type": "code",
   "execution_count": null,
   "metadata": {},
   "outputs": [],
   "source": [
    "button1 = tk.Button(root, text=\"Botón 1\")\n",
    "button2 = tk.Button(root, text=\"Botón 2\")\n",
    "button1.pack()\n",
    "button2.pack()\n"
   ]
  },
  {
   "cell_type": "markdown",
   "metadata": {},
   "source": [
    "## **grid:**\n",
    "\n",
    "- **Descripción:** El método grid organiza los widgets en una cuadrícula (rejilla) de filas y columnas. Puedes especificar en qué fila y columna deseas colocar cada widget.\n",
    "\n",
    "- Uso típico: Se utiliza cuando deseas organizar widgets en una estructura de cuadrícula, como una tabla o una matriz.\n",
    "\n",
    "- Ejemplo:"
   ]
  },
  {
   "cell_type": "code",
   "execution_count": null,
   "metadata": {},
   "outputs": [],
   "source": [
    "label1 = tk.Label(root, text=\"Fila 1, Columna 1\")\n",
    "label2 = tk.Label(root, text=\"Fila 2, Columna 1\")\n",
    "label1.grid(row=0, column=0)\n",
    "label2.grid(row=1, column=0)\n"
   ]
  },
  {
   "cell_type": "markdown",
   "metadata": {},
   "source": [
    "## **place:**\n",
    "\n",
    "- **Descripción:** El método place permite posicionar widgets de manera absoluta en la ventana o el contenedor padre utilizando coordenadas x e y. Puedes especificar la posición exacta de un widget.\n",
    "\n",
    "- Uso típico: Se utiliza cuando deseas un control preciso sobre la posición de un widget en la ventana.\n",
    "\n",
    "- Ejemplo:"
   ]
  },
  {
   "cell_type": "code",
   "execution_count": null,
   "metadata": {},
   "outputs": [],
   "source": [
    "button1 = tk.Button(root, text=\"Botón 1\")\n",
    "button1.place(x=50, y=50)\n"
   ]
  }
 ],
 "metadata": {
  "language_info": {
   "name": "python"
  }
 },
 "nbformat": 4,
 "nbformat_minor": 2
}
